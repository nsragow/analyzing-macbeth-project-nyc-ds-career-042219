{
 "cells": [
  {
   "cell_type": "markdown",
   "metadata": {},
   "source": [
    "# Project: Analyzing Macbeth\n",
    "\n",
    "## Introduction\n",
    "For our first day and first data science project, we're going to do some rudimentry analysis of Shakespeare's classic play: Macbeth! You will get practice working with lists, condtionals and dictionaries, visualizing data, and thinking analytically about data.\n",
    "\n",
    "## Objectives\n",
    "You will be able to:\n",
    "* Show mastery of the content covered in this section\n",
    "\n",
    "## Getting the Data\n",
    "Here we start by importing a python package and using it to pull the transcript of Macbeth from the project Gutenberg website. We also preview a few details about what is now stored in the variable macbeth; it's a string with 119,846 characters, the first 500 of which are printed below. "
   ]
  },
  {
   "cell_type": "code",
   "execution_count": 19,
   "metadata": {},
   "outputs": [
    {
     "name": "stdout",
     "output_type": "stream",
     "text": [
      "<class 'str'>\n",
      "119846\n",
      "﻿***the project gutenberg's etext of shakespeare's first folio***\r\n",
      "********************the tragedie of macbeth*********************\r\n",
      "\r\n",
      "this is our 3rd edition of most of these plays.  see the index.\r\n",
      "\r\n",
      "\r\n",
      "copyright laws are changing all over the world, be sure to check\r\n",
      "the copyright laws for your country before posting these files!!\r\n",
      "\r\n",
      "please take a look at the important information in this header.\r\n",
      "we encourage you to keep this file on your own disk, keeping an\r\n",
      "electronic path open for the nex\n",
      "2\n",
      "1080\n",
      "&c\n",
      "10-point\n",
      "10th\n",
      "11-point\n",
      "12-point\n",
      "16-point\n"
     ]
    }
   ],
   "source": [
    "import requests\n",
    "macbeth = requests.get('http://www.gutenberg.org/cache/epub/2264/pg2264.txt').text.lower()\n",
    "dic_txt = requests.get(\"https://raw.githubusercontent.com/dwyl/english-words/master/words.txt\").text.lower()\n",
    "\n",
    "print(type(macbeth))\n",
    "print(len(macbeth))\n",
    "print(macbeth[:500])\n",
    "print(dic_txt[:50])"
   ]
  },
  {
   "cell_type": "markdown",
   "metadata": {},
   "source": [
    "## Your Task\n",
    "\n",
    "Your task is to create a bar graph of the 25 most common words in Shakespeare's Macbeth.  \n",
    "\n",
    "\n",
    "A common python programming pattern to counting objects, produce histograms, or update statistics is to make calls to a dictionary as you iterate through a list. For example, given a list of words, you can create a dictionary to store counts and then iterate through the list of words, checking how many times each word has appeared using your dictionary, and updating the dictionary count now that you've seen that word again. The `dictionary.get()` method is very useful in doing this. Read the docstring for the dictionary.get() method and use it along with the pseudocode above to create a bar graph of the 25 most common words from the transcript of Macbeth which has been loaded into a variable 'Macbeth'. Be sure to include a title and appropriate labels for your graph."
   ]
  },
  {
   "cell_type": "code",
   "execution_count": 20,
   "metadata": {},
   "outputs": [
    {
     "name": "stdout",
     "output_type": "stream",
     "text": [
      "['2', '1080', '&c', '10-point', '10th', '11-point', '12-point', '16-point', '18-point', '1st']\n",
      "['the', 'project', 'gutenbergs', 'etext', 'of', 'shakespeares', 'first', 'folio', 'the', 'tragedie', 'of', 'macbeth', 'this', 'is', 'our', '3rd', 'edition', 'of', 'most', 'of', 'these', 'plays', 'see', 'the', 'index', 'copyright', 'laws', 'are', 'changing', 'all', 'over', 'the', 'world', 'be', 'sure', 'to', 'check', 'the', 'copyright', 'laws', 'for', 'your', 'country', 'before', 'posting', 'these', 'files', 'please', 'take', 'a', 'look', 'at', 'the', 'important', 'information', 'in', 'this', 'header', 'we', 'encourage', 'you', 'to', 'keep', 'this', 'file', 'on', 'your', 'own', 'disk', 'keeping', 'an', 'electronic', 'path', 'open', 'for', 'the', 'next', 'readers', 'do', 'not', 'remove', 'this', 'welcome', 'to', 'the', 'world', 'of', 'free', 'plain', 'vanilla', 'electronic', 'texts', 'etexts', 'readable', 'by', 'both', 'humans', 'and', 'by', 'computers', 'since', '1971', 'these', 'etexts', 'prepared', 'by', 'hundreds', 'of', 'volunteers', 'and', 'donations', 'information', 'on', 'contacting', 'project', 'gutenberg', 'to', 'get', 'etexts', 'and', 'further', 'information', 'is', 'included', 'below', 'we', 'need', 'your', 'donations', 'the', 'tragedie', 'of', 'macbeth', 'by', 'william', 'shakespeare', 'july', '2000', 'etext', '2264', 'the', 'project', 'gutenbergs', 'etext', 'of', 'shakespeares', 'first', 'folio', 'the', 'tragedie', 'of', 'macbeth', 'this', 'file', 'should', 'be', 'named', '2264txt', 'or', '2264zip', 'project', 'gutenberg', 'etexts', 'are', 'usually', 'created', 'from', 'multiple', 'editions', 'all', 'of', 'which', 'are', 'in', 'the', 'public', 'domain', 'in', 'the', 'united', 'states', 'unless', 'a', 'copyright', 'notice', 'is', 'included', 'therefore', 'we', 'usually', 'do', 'not', 'keep', 'any', 'of', 'these', 'books', 'in', 'compliance', 'with', 'any', 'particular', 'paper', 'edition', 'we', 'are', 'now', 'trying', 'to', 'release', 'all', 'our', 'books', 'one', 'month', 'in', 'advance', 'of', 'the', 'official', 'release', 'dates', 'leaving', 'time', 'for', 'better', 'editing', 'please', 'note', 'neither', 'this', 'list', 'nor', 'its', 'contents', 'are', 'final', 'till', 'midnight', 'of', 'the', 'last', 'day', 'of', 'the', 'month', 'of', 'any', 'such', 'announcement', 'the', 'official', 'release', 'date', 'of', 'all', 'project', 'gutenberg', 'etexts', 'is', 'at', 'midnight', 'central', 'time', 'of', 'the', 'last', 'day', 'of', 'the', 'stated', 'month', 'a', 'preliminary', 'version', 'may', 'often', 'be', 'posted', 'for', 'suggestion', 'comment', 'and', 'editing', 'by', 'those', 'who', 'wish', 'to', 'do', 'so', 'to', 'be', 'sure', 'you', 'have', 'an', 'up', 'to', 'date', 'first', 'edition', 'xxxxx10xxxx', 'please', 'check', 'file', 'sizes', 'in', 'the', 'first', 'week', 'of', 'the', 'next', 'month', 'since', 'our', 'ftp', 'program', 'has', 'a', 'bug', 'in', 'it', 'that', 'scrambles', 'the', 'date', 'tried', 'to', 'fix', 'and', 'failed', 'a', 'look', 'at', 'the', 'file', 'size', 'will', 'have', 'to', 'do', 'but', 'we', 'will', 'try', 'to', 'see', 'a', 'new', 'copy', 'has', 'at', 'least', 'one', 'byte', 'more', 'or', 'less', 'information', 'about', 'project', 'gutenberg', 'one', 'page', 'we', 'produce', 'about', 'two', 'million', 'dollars', 'for', 'each', 'hour', 'we', 'work', 'the', 'time', 'it', 'takes', 'us', 'a', 'rather', 'conservative', 'estimate', 'is', 'fifty', 'hours', 'to', 'get', 'any', 'etext', 'selected', 'entered', 'proofread', 'edited', 'copyright', 'searched', 'and', 'analyzed', 'the', 'copyright', 'letters', 'written', 'etc', 'this', 'projected', 'audience', 'is', 'one', 'hundred', 'million', 'readers', 'if', 'our', 'value', 'per', 'text', 'is', 'nominally', 'estimated', 'at', 'one', 'dollar', 'then', 'we', 'produce', '2', 'million', 'dollars', 'per', 'hour', 'this', 'year', 'as', 'we', 'release', 'thirtysix', 'text', 'files', 'per', 'month', 'or', '432', 'more', 'etexts', 'in', '1999', 'for', 'a', 'total', 'of', '2000', 'if', 'these', 'reach', 'just', '10', 'of', 'the', 'computerized', 'population', 'then', 'the', 'total', 'should', 'reach', 'over', '200', 'billion', 'etexts', 'given', 'away', 'this', 'year', 'the', 'goal', 'of', 'project', 'gutenberg', 'is', 'to', 'give', 'away', 'one', 'trillion', 'etext', 'files', 'by', 'december', '31', '2001', '10000', 'x', '100000000', '', '1', 'trillion', 'this']\n"
     ]
    }
   ],
   "source": [
    "dict_list = dic_txt.split(\"\\n\")\n",
    "dict_set = set(dict_list)\n",
    "macbeth_list = macbeth.split()\n",
    "filtered_macbeth_list = []\n",
    "for word in macbeth_list:\n",
    "    to_add = filter(str.isalnum,word.lower())\n",
    "    final_add = str()\n",
    "    for x in to_add:\n",
    "        final_add += x\n",
    "    #print(final)\n",
    "    filtered_macbeth_list.append(final_add)\n",
    "\n",
    "print(dict_list[:10])\n",
    "print(filtered_macbeth_list[:500])"
   ]
  },
  {
   "cell_type": "code",
   "execution_count": 21,
   "metadata": {
    "scrolled": false
   },
   "outputs": [
    {
     "name": "stdout",
     "output_type": "stream",
     "text": [
      "started\n",
      "[('the', 760), ('and', 602), ('to', 460), ('of', 426), ('i', 344), ('a', 284), ('you', 269), ('that', 245), ('in', 224), ('is', 211)]\n"
     ]
    }
   ],
   "source": [
    "print(\"started\")\n",
    "\n",
    "# Your code here\n",
    "\n",
    "# Pseudo-code Outline\n",
    "# Split the transcript into words\n",
    "# Create a dictionary\n",
    "# Iterate through the text of Macbeth\n",
    "# Update word counts\n",
    "# Create Bar Graph\n",
    "# Include descriptive titles and labels\n",
    "filtered_macbeth = str(list(filter(str.isalnum, macbeth)))\n",
    "\n",
    "\n",
    "hashmap = dict()\n",
    "remove_these_charaters = ['*',]\n",
    "for word in macbeth.split():\n",
    "    to_test = filter(str.isalnum,word.lower())\n",
    "    final_test = str()\n",
    "    for x in to_test:\n",
    "        final_test += x\n",
    "    #print(final_test)\n",
    "    if final_test in hashmap:\n",
    "        hashmap[final_test] = hashmap[final_test] + 1\n",
    "    else:\n",
    "        hashmap[final_test] = 1\n",
    "sorted_list = list(sorted(hashmap, key = lambda x : hashmap[x], reverse = True))\n",
    "#print(sorted_list)\n",
    "sorted_tuples = [(key,hashmap[key]) for key in sorted_list]\n",
    "print(sorted_tuples[:10])\n",
    "\n",
    "\n"
   ]
  },
  {
   "cell_type": "code",
   "execution_count": 6,
   "metadata": {},
   "outputs": [
    {
     "data": {
      "image/png": "[encoded data removed]",
      "text/plain": [
       "<Figure size 432x288 with 1 Axes>"
      ]
     },
     "metadata": {
      "needs_background": "light"
     },
     "output_type": "display_data"
    }
   ],
   "source": [
    "import matplotlib.pyplot as plt\n",
    "\n",
    "x = [tupleI[0] for tupleI in sorted_tuples[:10]]\n",
    "y = [tupleI[1] for tupleI in sorted_tuples[:10]]\n",
    "plt.bar(x,y,label = \"Word Count\")\n",
    "plt.title(\"Frequency List\")\n",
    "plt.legend()\n",
    "plt.xlabel(\"Word\")\n",
    "plt.ylabel(\"Occurences\")\n",
    "plt.show()"
   ]
  },
  {
   "cell_type": "markdown",
   "metadata": {},
   "source": [
    "## Level Up (Optional)\n",
    "This project should take you about an hour and a half to complete. If you're done much more quickly than that and are not behind in the course, feel free to deepen your knowledge by completing any or all of the following tasks until you run out of time:\n",
    "* Create a list of top characters by mentions of their names \n",
    "* Split the text by which character is talking\n",
    "* Create subgraphs of the most common words by character\n",
    "* Reduce the string to the text of the play itself. (Remove any initial notes, forward, introduction, appendix, etc.)\n",
    "* Come up with some other fun analyses of the text!\n",
    "\n",
    "## Summary\n",
    "Congratulations! You've got some extra practice combining various data types into useful programming patterns and done an initial analysis of a classic text!"
   ]
  },
  {
   "cell_type": "code",
   "execution_count": 26,
   "metadata": {},
   "outputs": [
    {
     "data": {
      "text/plain": [
       "['duncan',\n",
       " 'malcolm',\n",
       " 'donalbain',\n",
       " 'macbeth',\n",
       " 'lady macbeth',\n",
       " 'banquo',\n",
       " 'fleance',\n",
       " 'macduff',\n",
       " 'lennox',\n",
       " 'ross',\n",
       " 'menteith',\n",
       " 'angus',\n",
       " 'caithness',\n",
       " 'lady macduff',\n",
       " 'hecate',\n",
       " 'siward',\n",
       " 'young siward',\n",
       " 'seyton']"
      ]
     },
     "execution_count": 26,
     "metadata": {},
     "output_type": "execute_result"
    }
   ],
   "source": [
    "names = [\"DUNCAN\", \"MALCOLM\",  \"DONALBAIN\", \"MACBETH\", \"LADY MACBETH\", \n",
    "         \"BANQUO\", \"FLEANCE\", \"MACDUFF\", \"LENNOX\", 'ROSS', \"MENTEITH\", \n",
    "         \"ANGUS\", \"CAITHNESS\", \"LADY MACDUFF\", \"HECATE\", \"SIWARD\", \n",
    "         \"YOUNG SIWARD\", \"SEYTON\"]\n",
    "names = [x.lower() for x in names]\n",
    "names"
   ]
  },
  {
   "cell_type": "code",
   "execution_count": 31,
   "metadata": {},
   "outputs": [],
   "source": [
    "details_on_names = {}\n",
    "for name in names:\n",
    "    details_on_names[name] = {\"occurences\":macbeth.count(name)}\n",
    "    "
   ]
  },
  {
   "cell_type": "code",
   "execution_count": 32,
   "metadata": {},
   "outputs": [
    {
     "data": {
      "text/plain": [
       "{'duncan': {'occurences': 16},\n",
       " 'malcolm': {'occurences': 16},\n",
       " 'donalbain': {'occurences': 7},\n",
       " 'macbeth': {'occurences': 71},\n",
       " 'lady macbeth': {'occurences': 0},\n",
       " 'banquo': {'occurences': 40},\n",
       " 'fleance': {'occurences': 4},\n",
       " 'macduff': {'occurences': 28},\n",
       " 'lennox': {'occurences': 0},\n",
       " 'ross': {'occurences': 53},\n",
       " 'menteith': {'occurences': 0},\n",
       " 'angus': {'occurences': 6},\n",
       " 'caithness': {'occurences': 0},\n",
       " 'lady macduff': {'occurences': 0},\n",
       " 'hecate': {'occurences': 0},\n",
       " 'siward': {'occurences': 0},\n",
       " 'young siward': {'occurences': 0},\n",
       " 'seyton': {'occurences': 6}}"
      ]
     },
     "execution_count": 32,
     "metadata": {},
     "output_type": "execute_result"
    }
   ],
   "source": [
    "details_on_names"
   ]
  },
  {
   "cell_type": "code",
   "execution_count": null,
   "metadata": {},
   "outputs": [],
   "source": [
    "start = 16250\n",
    "length = 2000\n",
    "print(macbeth[start:start+length])"
   ]
  },
  {
   "cell_type": "code",
   "execution_count": null,
   "metadata": {},
   "outputs": [],
   "source": []
  }
 ],
 "metadata": {
  "kernelspec": {
   "display_name": "Python 3",
   "language": "python",
   "name": "python3"
  },
  "language_info": {
   "codemirror_mode": {
    "name": "ipython",
    "version": 3
   },
   "file_extension": ".py",
   "mimetype": "text/x-python",
   "name": "python",
   "nbconvert_exporter": "python",
   "pygments_lexer": "ipython3",
   "version": "3.6.6"
  }
 },
 "nbformat": 4,
 "nbformat_minor": 2
}
